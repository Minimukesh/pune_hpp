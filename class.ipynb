{
 "cells": [
  {
   "cell_type": "code",
   "execution_count": 1,
   "id": "0579b8a1-0b54-4cc1-8dc8-2af23faa6906",
   "metadata": {},
   "outputs": [
    {
     "name": "stdout",
     "output_type": "stream",
     "text": [
      "this is my class\n"
     ]
    }
   ],
   "source": [
    "class mini():\n",
    "    print('this is my class')"
   ]
  },
  {
   "cell_type": "code",
   "execution_count": 5,
   "id": "64aee9be-c5ae-4170-aff4-eb9f373fc786",
   "metadata": {},
   "outputs": [
    {
     "name": "stdout",
     "output_type": "stream",
     "text": [
      "this is my class\n",
      "this is my hobby\n",
      "this is my hobby\n"
     ]
    }
   ],
   "source": [
    "class mini:\n",
    "    print('this is my class')\n",
    "    def hobby(self):\n",
    "        print ('this is my hobby')\n",
    "obj1 = mini()\n",
    "obj1.hobby()\n",
    "obj2 = mini()\n",
    "obj2.hobby()"
   ]
  },
  {
   "cell_type": "code",
   "execution_count": 14,
   "id": "d06287f2-21bd-403e-93f7-cc520de298d2",
   "metadata": {},
   "outputs": [
    {
     "name": "stdout",
     "output_type": "stream",
     "text": [
      "this is mother init\n",
      "this is child init\n"
     ]
    }
   ],
   "source": [
    "class mother: #base class #super class # parent class\n",
    "    #print('this is mother class')\n",
    "    def __init__(self):\n",
    "       print('this is mother init')\n",
    "       \n",
    "\n",
    "class child(mother): # derived class #sub class # child class\n",
    "    #print('this is child class')\n",
    "    def __init__(self):\n",
    "          mother.__init__(self)\n",
    "          print('this is child init')\n",
    "    \n",
    "\n",
    "obj1 = child()"
   ]
  },
  {
   "cell_type": "markdown",
   "id": "292bbf62-d6df-4aaf-9242-6abc9e9fda97",
   "metadata": {},
   "source": [
    "### Multilevel Inheritance"
   ]
  },
  {
   "cell_type": "code",
   "execution_count": 25,
   "id": "47bef578-879a-438b-89e2-fb7a52d3b036",
   "metadata": {},
   "outputs": [
    {
     "name": "stdout",
     "output_type": "stream",
     "text": [
      "this employee data class\n",
      "this is wipro company\n",
      "My salary is 500000\n"
     ]
    }
   ],
   "source": [
    "class company: #base class #super class # parent class\n",
    "    #print('this is Company class')\n",
    "    def __init__(self):\n",
    "       print('this is Company init')\n",
    "    def comp_name(self):\n",
    "        print('this is wipro company')\n",
    "       \n",
    "\n",
    "class Employ_salary(company): # derived class #sub class # child class\n",
    "    #print('this is Employee class')\n",
    "    def __init__(self):\n",
    "           print('this is employee init')\n",
    "        \n",
    "    def emp_sal(self):\n",
    "        print('My salary is 500000')\n",
    "\n",
    "class employ_data(Employ_salary):\n",
    "     def __init__(self):\n",
    "         print('this employee data class')\n",
    "\n",
    "obj = employ_data()\n",
    "obj.comp_name()\n",
    "obj.emp_sal()\n",
    "    "
   ]
  },
  {
   "cell_type": "code",
   "execution_count": null,
   "id": "9f0410ff-5ffe-4f66-8c2d-bdd48f6e2084",
   "metadata": {},
   "outputs": [],
   "source": []
  },
  {
   "cell_type": "code",
   "execution_count": null,
   "id": "e24cf037-3bc4-4bcf-87fe-4545c71e3b5c",
   "metadata": {},
   "outputs": [],
   "source": []
  }
 ],
 "metadata": {
  "kernelspec": {
   "display_name": "Python 3 (ipykernel)",
   "language": "python",
   "name": "python3"
  },
  "language_info": {
   "codemirror_mode": {
    "name": "ipython",
    "version": 3
   },
   "file_extension": ".py",
   "mimetype": "text/x-python",
   "name": "python",
   "nbconvert_exporter": "python",
   "pygments_lexer": "ipython3",
   "version": "3.11.4"
  }
 },
 "nbformat": 4,
 "nbformat_minor": 5
}
